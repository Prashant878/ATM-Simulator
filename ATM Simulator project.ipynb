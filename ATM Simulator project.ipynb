{
 "cells": [
  {
   "cell_type": "markdown",
   "id": "02b39ec5",
   "metadata": {},
   "source": [
    "# ATM SIMULATOR"
   ]
  },
  {
   "cell_type": "code",
   "execution_count": null,
   "id": "a573136a",
   "metadata": {},
   "outputs": [
    {
     "name": "stdout",
     "output_type": "stream",
     "text": [
      "Atm program..\n",
      "Welcome to HDFC_Bank!\n",
      "Swipe your card here:\n",
      "Enter your PIN to proceed:1001\n",
      "Choose your transaction:\n",
      "1. Check Balance\n",
      "2. Withdraw money\n",
      "3. Deposit\n",
      "4. Change your pin\n",
      "5. Transfer money\n",
      "6. Exit\n"
     ]
    }
   ],
   "source": [
    "print(\"Atm program..\")\n",
    "\n",
    "# \"\"\"we are making an ATM program.\"\"\"\n",
    "\n",
    "print(\"Welcome to HDFC_Bank!\")\n",
    "print(\"Swipe your card here:\")\n",
    "atm_pin = \"1001\"\n",
    "\n",
    "# \"\"\"Here we are storing the ATM pin.\"\"\"\n",
    "transactions = [\"Check Balance\", \"Withdraw money\", \"Deposit\", \"Change your pin\", \"Transfer money\", \"Exit\"]\n",
    "\n",
    "# \"\"\"So here we are storing all transactions.\"\"\"\n",
    "pin = input(\"Enter your PIN to proceed:\")\n",
    "if pin == atm_pin:  # Compare as strings\n",
    "    print(\"Choose your transaction:\")\n",
    "    print(\"1. Check Balance\")\n",
    "    print(\"2. Withdraw money\")\n",
    "    print(\"3. Deposit\")\n",
    "    print(\"4. Change your pin\")\n",
    "    print(\"5. Transfer money\")\n",
    "    print(\"6. Exit\")\n",
    "    trans = input(\"Transaction: \")\n",
    "    if trans == \"Check Balance\":\n",
    "        slip = input(\"Do you want Slip:\")\n",
    "        if slip == \"Yes\":  # Use \"slip\" instead of \"Slip\"\n",
    "            print(\"Here is your slip... Thank you for using HDFC_Bank\")\n",
    "        else:\n",
    "            print(\"Thank you for using HDFC_Bank\")\n",
    "    elif trans == \"Withdraw money\":\n",
    "        amount = float(input(\"Enter your Amount to Proceed:\"))  # Convert to float\n",
    "        if amount > 0:\n",
    "            print(\"Collect your cash, thank you for using HDFC_Bank\")\n",
    "        else:\n",
    "            print(\"Enter a valid amount to proceed\")\n",
    "    elif trans == \"Deposit\":\n",
    "        deposit = float(input(\"Enter your amount to deposit:\"))  # Convert to float\n",
    "        if deposit > 0:\n",
    "            print(\"Your deposit has been successfully deposited, thank you for using HDFC_Bank\")\n",
    "        else:\n",
    "            print(\"Enter a valid amount to proceed\")\n",
    "    elif trans == \"Change your pin\":\n",
    "        change_pin = input(\"Enter new pin:\")  # This should be a string\n",
    "        if len(change_pin) == 4:  # Check if the new PIN has 4 digits\n",
    "            print(\"Your PIN has been successfully changed... thank you for using HDFC_Bank\")\n",
    "        else:\n",
    "            print(\"Enter a valid 4-digit PIN to proceed\")\n",
    "    elif trans == \"Transfer money\":\n",
    "        transfer_money = float(input(\"Enter the amount to transfer:\"))  # Convert to float\n",
    "        if transfer_money > 0:\n",
    "            print(\"Your money has been transferred... thank you for using HDFC_Bank\")\n",
    "        else:\n",
    "            print(\"Enter a valid amount to proceed\")\n",
    "    elif trans == \"Exit\":\n",
    "        exit_1 = input(\"Press 'Yes' to Exit\")\n",
    "        if exit_1 == \"Yes\":\n",
    "            print(\"Exit\")\n",
    "        else:\n",
    "            print(\"Choose any transaction, please\")\n",
    "else:\n",
    "    print(\"Wrong PIN, try again\")"
   ]
  },
  {
   "cell_type": "code",
   "execution_count": null,
   "id": "e2104697",
   "metadata": {},
   "outputs": [],
   "source": []
  }
 ],
 "metadata": {
  "kernelspec": {
   "display_name": "Python 3 (ipykernel)",
   "language": "python",
   "name": "python3"
  },
  "language_info": {
   "codemirror_mode": {
    "name": "ipython",
    "version": 3
   },
   "file_extension": ".py",
   "mimetype": "text/x-python",
   "name": "python",
   "nbconvert_exporter": "python",
   "pygments_lexer": "ipython3",
   "version": "3.11.4"
  }
 },
 "nbformat": 4,
 "nbformat_minor": 5
}
